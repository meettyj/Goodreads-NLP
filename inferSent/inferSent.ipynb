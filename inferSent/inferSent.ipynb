{
 "cells": [
  {
   "cell_type": "code",
   "execution_count": 36,
   "metadata": {},
   "outputs": [],
   "source": [
    "# import stuff\n",
    "# %load_ext autoreload\n",
    "# %autoreload 2\n",
    "# %matplotlib inline\n",
    "\n",
    "from random import randint\n",
    "import numpy as np\n",
    "import torch\n",
    "import pandas as pd\n",
    "import json\n",
    "import scipy\n",
    "import scipy.spatial"
   ]
  },
  {
   "cell_type": "code",
   "execution_count": 37,
   "metadata": {},
   "outputs": [],
   "source": [
    "# Parameters\n",
    "# separate_index = 50000\n",
    "use_cuda = True\n",
    "test_set_size = 200"
   ]
  },
  {
   "cell_type": "markdown",
   "metadata": {},
   "source": [
    "## Load model"
   ]
  },
  {
   "cell_type": "code",
   "execution_count": 38,
   "metadata": {},
   "outputs": [
    {
     "name": "stdout",
     "output_type": "stream",
     "text": [
      "Vocab size : 100000\n"
     ]
    }
   ],
   "source": [
    "# Load model\n",
    "from models import InferSent\n",
    "model_version = 2\n",
    "MODEL_PATH = \"encoder/infersent%s.pkl\" % model_version\n",
    "params_model = {'bsize': 64, 'word_emb_dim': 300, 'enc_lstm_dim': 2048,\n",
    "                'pool_type': 'max', 'dpout_model': 0.0, 'version': model_version}\n",
    "model = InferSent(params_model)\n",
    "model.load_state_dict(torch.load(MODEL_PATH))\n",
    "\n",
    "# Keep it on CPU or put it on GPU\n",
    "model = model.cuda() if use_cuda else model\n",
    "\n",
    "# If infersent1 -> use GloVe embeddings. If infersent2 -> use InferSent embeddings.\n",
    "W2V_PATH = 'GloVe/glove.840B.300d.txt' if model_version == 1 else 'fastText/crawl-300d-2M.vec'\n",
    "model.set_w2v_path(W2V_PATH)\n",
    "\n",
    "# Load embeddings of K most frequent words\n",
    "model.build_vocab_k_words(K=100000)"
   ]
  },
  {
   "cell_type": "markdown",
   "metadata": {},
   "source": [
    "## Read Dictionary"
   ]
  },
  {
   "cell_type": "code",
   "execution_count": 39,
   "metadata": {
    "scrolled": true
   },
   "outputs": [
    {
     "name": "stdout",
     "output_type": "stream",
     "text": [
      "length of df_description:  2360655\n"
     ]
    },
    {
     "data": {
      "text/html": [
       "<div>\n",
       "<style scoped>\n",
       "    .dataframe tbody tr th:only-of-type {\n",
       "        vertical-align: middle;\n",
       "    }\n",
       "\n",
       "    .dataframe tbody tr th {\n",
       "        vertical-align: top;\n",
       "    }\n",
       "\n",
       "    .dataframe thead th {\n",
       "        text-align: right;\n",
       "    }\n",
       "</style>\n",
       "<table border=\"1\" class=\"dataframe\">\n",
       "  <thead>\n",
       "    <tr style=\"text-align: right;\">\n",
       "      <th></th>\n",
       "      <th>book_id</th>\n",
       "      <th>description</th>\n",
       "    </tr>\n",
       "  </thead>\n",
       "  <tbody>\n",
       "    <tr>\n",
       "      <th>0</th>\n",
       "      <td>5333265</td>\n",
       "      <td></td>\n",
       "    </tr>\n",
       "    <tr>\n",
       "      <th>1</th>\n",
       "      <td>1333909</td>\n",
       "      <td>Anita Diamant's international bestseller \"The ...</td>\n",
       "    </tr>\n",
       "    <tr>\n",
       "      <th>2</th>\n",
       "      <td>7327624</td>\n",
       "      <td>Omnibus book club edition containing the Ladie...</td>\n",
       "    </tr>\n",
       "    <tr>\n",
       "      <th>3</th>\n",
       "      <td>6066819</td>\n",
       "      <td>Addie Downs and Valerie Adler were eight when ...</td>\n",
       "    </tr>\n",
       "    <tr>\n",
       "      <th>4</th>\n",
       "      <td>287140</td>\n",
       "      <td></td>\n",
       "    </tr>\n",
       "  </tbody>\n",
       "</table>\n",
       "</div>"
      ],
      "text/plain": [
       "   book_id                                        description\n",
       "0  5333265                                                   \n",
       "1  1333909  Anita Diamant's international bestseller \"The ...\n",
       "2  7327624  Omnibus book club edition containing the Ladie...\n",
       "3  6066819  Addie Downs and Valerie Adler were eight when ...\n",
       "4   287140                                                   "
      ]
     },
     "execution_count": 39,
     "metadata": {},
     "output_type": "execute_result"
    }
   ],
   "source": [
    "# read from csv\n",
    "description_csv_file_name = \"../results/description.csv\"\n",
    "df_description = pd.read_csv(description_csv_file_name)\n",
    "df_description = df_description.replace(np.nan, \"\", regex=True)\n",
    "print('length of df_description: ', len(df_description))\n",
    "df_description.head()\n"
   ]
  },
  {
   "cell_type": "markdown",
   "metadata": {},
   "source": [
    "## Get similarity score"
   ]
  },
  {
   "cell_type": "code",
   "execution_count": 133,
   "metadata": {},
   "outputs": [],
   "source": [
    "def generate_embeddings_and_compute_ranked_distance(book_text, similar_book_texts, print_mode=True, closest_n=20):\n",
    "    if book_text == \"\":\n",
    "        print(\"The input book description cannot be NULL\")\n",
    "        return -1\n",
    "    temp_book_text = [book_text, \"Meaningless\"]\n",
    "    book_embedding = model.encode(temp_book_text, bsize=128, tokenize=False)[0]\n",
    "    similar_books_embeddings = model.encode(similar_book_texts, tokenize=True, verbose=True)\n",
    "    distances = scipy.spatial.distance.cdist([book_embedding], similar_books_embeddings, \"cosine\")[0]\n",
    "\n",
    "    results = zip(range(len(distances)), distances)\n",
    "    results = sorted(results, key=lambda x: x[1])\n",
    "    \n",
    "    if print_mode == True:\n",
    "        print(\"======================\\n\\n\")\n",
    "        print(\"Original book:\", book_text[0:50], \"...\")\n",
    "#     print(\"\\nTop \" + str(closest_n) + \" most similar books:\")\n",
    "    \n",
    "    accuracy = 0\n",
    "    accuracy_closest_5 = 0\n",
    "    count_iteration = 0\n",
    "    for idx, distance in results:\n",
    "        if count_iteration > closest_n: # we only consider clesest N results.\n",
    "            break\n",
    "        if similar_book_texts[idx] == \"\":\n",
    "            continue # we don't take into account those books without any description\n",
    "        similarity_score = 1 - distance\n",
    "        accuracy += similarity_score\n",
    "        count_iteration += 1\n",
    "        if count_iteration <=5:\n",
    "            accuracy_closest_5 = accuracy\n",
    "        if print_mode == True:\n",
    "            try:\n",
    "                print(similar_book_texts.iloc[idx].strip()[0:50], \"... \",  \"(Score: %.4f)\" % (similarity_score))\n",
    "            except:\n",
    "                print(similar_book_texts[idx].strip()[0:50], \"... \",  \"(Score: %.4f)\" % (similarity_score))\n",
    "    accuracy /= count_iteration\n",
    "    accuracy_closest_5 /= count_iteration if count_iteration<5 else 5\n",
    "    \n",
    "    return accuracy, accuracy_closest_5"
   ]
  },
  {
   "cell_type": "code",
   "execution_count": 136,
   "metadata": {
    "scrolled": false
   },
   "outputs": [],
   "source": [
    "# need to modify the function above to make the accuracy part supports iloc\n",
    "# generate_embeddings_and_compute_ranked_distance(df_description.description[1], df_description.description[1:20])"
   ]
  },
  {
   "cell_type": "markdown",
   "metadata": {},
   "source": [
    "## Get accuracy"
   ]
  },
  {
   "cell_type": "code",
   "execution_count": 14,
   "metadata": {
    "scrolled": true
   },
   "outputs": [
    {
     "name": "stdout",
     "output_type": "stream",
     "text": [
      "length of df_similar_books_GT:  2360655\n"
     ]
    },
    {
     "data": {
      "text/html": [
       "<div>\n",
       "<style scoped>\n",
       "    .dataframe tbody tr th:only-of-type {\n",
       "        vertical-align: middle;\n",
       "    }\n",
       "\n",
       "    .dataframe tbody tr th {\n",
       "        vertical-align: top;\n",
       "    }\n",
       "\n",
       "    .dataframe thead th {\n",
       "        text-align: right;\n",
       "    }\n",
       "</style>\n",
       "<table border=\"1\" class=\"dataframe\">\n",
       "  <thead>\n",
       "    <tr style=\"text-align: right;\">\n",
       "      <th></th>\n",
       "      <th>book_id</th>\n",
       "      <th>similar_books</th>\n",
       "    </tr>\n",
       "  </thead>\n",
       "  <tbody>\n",
       "    <tr>\n",
       "      <th>0</th>\n",
       "      <td>5333265</td>\n",
       "      <td>[]</td>\n",
       "    </tr>\n",
       "    <tr>\n",
       "      <th>1</th>\n",
       "      <td>1333909</td>\n",
       "      <td>['8709549', '17074050', '28937', '158816', '22...</td>\n",
       "    </tr>\n",
       "    <tr>\n",
       "      <th>2</th>\n",
       "      <td>7327624</td>\n",
       "      <td>['19997', '828466', '1569323', '425389', '1176...</td>\n",
       "    </tr>\n",
       "    <tr>\n",
       "      <th>3</th>\n",
       "      <td>6066819</td>\n",
       "      <td>['6604176', '6054190', '2285777', '82641', '75...</td>\n",
       "    </tr>\n",
       "    <tr>\n",
       "      <th>4</th>\n",
       "      <td>287140</td>\n",
       "      <td>[]</td>\n",
       "    </tr>\n",
       "  </tbody>\n",
       "</table>\n",
       "</div>"
      ],
      "text/plain": [
       "   book_id                                      similar_books\n",
       "0  5333265                                                 []\n",
       "1  1333909  ['8709549', '17074050', '28937', '158816', '22...\n",
       "2  7327624  ['19997', '828466', '1569323', '425389', '1176...\n",
       "3  6066819  ['6604176', '6054190', '2285777', '82641', '75...\n",
       "4   287140                                                 []"
      ]
     },
     "execution_count": 14,
     "metadata": {},
     "output_type": "execute_result"
    }
   ],
   "source": [
    "# Read the csv file first.\n",
    "ground_truth_similar_books_csv = \"../results/similar_books.csv\"\n",
    "df_similar_books_GT = pd.read_csv(ground_truth_similar_books_csv)\n",
    "print('length of df_similar_books_GT: ', len(df_similar_books_GT))\n",
    "df_similar_books_GT.head()"
   ]
  },
  {
   "cell_type": "code",
   "execution_count": 76,
   "metadata": {},
   "outputs": [
    {
     "data": {
      "text/plain": [
       "[8709549,\n",
       " 17074050,\n",
       " 28937,\n",
       " 158816,\n",
       " 228563,\n",
       " 11296581,\n",
       " 1073987,\n",
       " 7298465,\n",
       " 1274862,\n",
       " 18290554,\n",
       " 86382,\n",
       " 343067,\n",
       " 2774907,\n",
       " 663892,\n",
       " 1233981,\n",
       " 298912,\n",
       " 401091,\n",
       " 307575]"
      ]
     },
     "execution_count": 76,
     "metadata": {},
     "output_type": "execute_result"
    }
   ],
   "source": [
    "# build a test set from df_similar_books_GT.\n",
    "def get_test_set_similar_books_GT():\n",
    "    similar_books_GT_test_dict = {}\n",
    "    for i in range(test_set_size):\n",
    "        temp_similar_books = df_similar_books_GT.iloc[i]['similar_books']\n",
    "        if temp_similar_books != \"[]\":\n",
    "            book_id = df_similar_books_GT.iloc[i]['book_id']\n",
    "            # preprocess the similar books GT\n",
    "            temp_similar_books = temp_similar_books.replace(\"[\", \"\")\n",
    "            temp_similar_books = temp_similar_books.replace(\"]\", \"\")\n",
    "            temp_similar_books = temp_similar_books.replace(\"'\", \"\")\n",
    "            temp_similar_books = [int(j.strip()) for j in temp_similar_books.split(\",\")]\n",
    "            similar_books_GT_test_dict[book_id] = temp_similar_books\n",
    "    return similar_books_GT_test_dict\n",
    "\n",
    "similar_books_GT_test_dict= get_test_set_similar_books_GT()\n",
    "similar_books_GT_test_dict[1333909]"
   ]
  },
  {
   "cell_type": "code",
   "execution_count": 71,
   "metadata": {},
   "outputs": [
    {
     "data": {
      "text/plain": [
       "'Anita Diamant\\'s international bestseller \"The Red Tent\" brilliantly re-created the ancient world of womanhood. Diamant brings her remarkable storytelling skills to \"Good Harbor\" -- offering insight to the precarious balance of marriage and career, motherhood and friendship in the world of modern women. The seaside town of Gloucester, Massachusetts is a place where the smell of the ocean lingers in the air and the rocky coast glistens in the Atlantic sunshine. When longtime Gloucester-resident Kathleen Levine is diagnosed with breast cancer, her life is thrown into turmoil. Frightened and burdened by secrets, she meets Joyce Tabachnik -- a freelance writer with literary aspirations -- and a once-in-a-lifetime friendship is born. Joyce has just bought a small house in Gloucester, where she hopes to write as well as vacation with her family. Like Kathleen, Joyce is at a fragile place in her life.\\\\nA mutual love for books, humor, and the beauty of the natural world brings the two women together. They share their personal histories, and help each other to confront scars left by old emotional wounds.\\\\nWith her own trademark wisdom and humor, Diamant considers the nature, strength, and necessity of adult female friendship. \"Good Harbor\" examines the tragedy of loss, the insidious nature of family secrets, as well as the redemptive power of friendship.'"
      ]
     },
     "execution_count": 71,
     "metadata": {},
     "output_type": "execute_result"
    }
   ],
   "source": [
    "# to keep the data complete\n",
    "pd.set_option('max_colwidth', 50000)\n",
    "\n",
    "def get_description_by_book_id(book_id):\n",
    "    return df_description.loc[df_description['book_id']==book_id]['description'].to_string(index=False).strip()\n",
    "\n",
    "get_description_by_book_id(1333909)"
   ]
  },
  {
   "cell_type": "code",
   "execution_count": 83,
   "metadata": {},
   "outputs": [],
   "source": [
    "def get_description_for_book_and_similar_books(book_id, similar_books_id_list):\n",
    "    description_book = get_description_by_book_id(book_id)\n",
    "    description_similar_books_list = []\n",
    "    for similar_book_id in similar_books_id_list:\n",
    "        description_similar_book = get_description_by_book_id(similar_book_id)\n",
    "        description_similar_books_list.append(description_similar_book)\n",
    "    return description_book, description_similar_books_list"
   ]
  },
  {
   "cell_type": "code",
   "execution_count": 138,
   "metadata": {},
   "outputs": [
    {
     "name": "stdout",
     "output_type": "stream",
     "text": [
      "Nb words kept : 3386/3516 (96.3%)\n",
      "Speed : 69.0 sentences/s (gpu mode, bsize=64)\n",
      "Nb words kept : 2191/2343 (93.5%)\n",
      "Speed : 84.3 sentences/s (gpu mode, bsize=64)\n",
      "Nb words kept : 2595/2699 (96.1%)\n",
      "Speed : 46.0 sentences/s (gpu mode, bsize=64)\n",
      "Nb words kept : 631/661 (95.5%)\n",
      "Speed : 102.3 sentences/s (gpu mode, bsize=64)\n",
      "Nb words kept : 1798/1898 (94.7%)\n",
      "Speed : 83.1 sentences/s (gpu mode, bsize=64)\n",
      "Nb words kept : 1235/1301 (94.9%)\n",
      "Speed : 63.1 sentences/s (gpu mode, bsize=64)\n",
      "Nb words kept : 2682/2820 (95.1%)\n",
      "Speed : 68.6 sentences/s (gpu mode, bsize=64)\n",
      "Nb words kept : 3687/3830 (96.3%)\n",
      "Speed : 44.7 sentences/s (gpu mode, bsize=64)\n",
      "Nb words kept : 1972/2059 (95.8%)\n",
      "Speed : 67.9 sentences/s (gpu mode, bsize=64)\n",
      "Nb words kept : 2534/2634 (96.2%)\n",
      "Speed : 71.5 sentences/s (gpu mode, bsize=64)\n",
      "Nb words kept : 1368/1398 (97.9%)\n",
      "Speed : 144.8 sentences/s (gpu mode, bsize=64)\n",
      "Nb words kept : 1328/1500 (88.5%)\n",
      "Speed : 89.8 sentences/s (gpu mode, bsize=64)\n",
      "Nb words kept : 1182/1332 (88.7%)\n",
      "Speed : 70.0 sentences/s (gpu mode, bsize=64)\n",
      "Nb words kept : 3481/3606 (96.5%)\n",
      "Speed : 44.9 sentences/s (gpu mode, bsize=64)\n",
      "Nb words kept : 459/471 (97.5%)\n",
      "Speed : 31.7 sentences/s (gpu mode, bsize=64)\n",
      "Nb words kept : 3243/3403 (95.3%)\n",
      "Speed : 63.2 sentences/s (gpu mode, bsize=64)\n",
      "Nb words kept : 3421/3559 (96.1%)\n",
      "Speed : 43.0 sentences/s (gpu mode, bsize=64)\n",
      "Nb words kept : 2425/2538 (95.5%)\n",
      "Speed : 73.5 sentences/s (gpu mode, bsize=64)\n",
      "Nb words kept : 1387/1497 (92.7%)\n",
      "Speed : 46.8 sentences/s (gpu mode, bsize=64)\n",
      "Nb words kept : 1030/1107 (93.0%)\n",
      "Speed : 83.2 sentences/s (gpu mode, bsize=64)\n",
      "Nb words kept : 1539/1581 (97.3%)\n",
      "Speed : 59.4 sentences/s (gpu mode, bsize=64)\n",
      "Nb words kept : 2038/2141 (95.2%)\n",
      "Speed : 78.7 sentences/s (gpu mode, bsize=64)\n",
      "Nb words kept : 2411/2499 (96.5%)\n",
      "Speed : 64.4 sentences/s (gpu mode, bsize=64)\n",
      "Nb words kept : 3237/3361 (96.3%)\n",
      "Speed : 77.8 sentences/s (gpu mode, bsize=64)\n",
      "Nb words kept : 3271/3401 (96.2%)\n",
      "Speed : 53.9 sentences/s (gpu mode, bsize=64)\n",
      "Nb words kept : 475/490 (96.9%)\n",
      "Speed : 52.9 sentences/s (gpu mode, bsize=64)\n",
      "Nb words kept : 1033/1078 (95.8%)\n",
      "Speed : 131.1 sentences/s (gpu mode, bsize=64)\n",
      "Nb words kept : 2495/2592 (96.3%)\n",
      "Speed : 60.5 sentences/s (gpu mode, bsize=64)\n",
      "Nb words kept : 2681/2778 (96.5%)\n",
      "Speed : 60.4 sentences/s (gpu mode, bsize=64)\n",
      "Nb words kept : 2848/2967 (96.0%)\n",
      "Speed : 52.8 sentences/s (gpu mode, bsize=64)\n",
      "Nb words kept : 3563/3666 (97.2%)\n",
      "Speed : 56.0 sentences/s (gpu mode, bsize=64)\n",
      "Nb words kept : 2004/2134 (93.9%)\n",
      "Speed : 84.4 sentences/s (gpu mode, bsize=64)\n",
      "Nb words kept : 1454/1519 (95.7%)\n",
      "Speed : 80.6 sentences/s (gpu mode, bsize=64)\n",
      "Nb words kept : 3121/3297 (94.7%)\n",
      "Speed : 69.1 sentences/s (gpu mode, bsize=64)\n",
      "Nb words kept : 3827/4000 (95.7%)\n",
      "Speed : 60.5 sentences/s (gpu mode, bsize=64)\n",
      "Nb words kept : 4512/4722 (95.6%)\n",
      "Speed : 23.1 sentences/s (gpu mode, bsize=64)\n",
      "Nb words kept : 3205/3322 (96.5%)\n",
      "Speed : 41.9 sentences/s (gpu mode, bsize=64)\n",
      "Nb words kept : 2057/2133 (96.4%)\n",
      "Speed : 67.4 sentences/s (gpu mode, bsize=64)\n",
      "Nb words kept : 1297/1413 (91.8%)\n",
      "Speed : 99.0 sentences/s (gpu mode, bsize=64)\n",
      "Nb words kept : 3237/3355 (96.5%)\n",
      "Speed : 66.5 sentences/s (gpu mode, bsize=64)\n",
      "Nb words kept : 3019/3230 (93.5%)\n",
      "Speed : 59.9 sentences/s (gpu mode, bsize=64)\n",
      "Nb words kept : 4743/4959 (95.6%)\n",
      "Speed : 14.6 sentences/s (gpu mode, bsize=64)\n",
      "Nb words kept : 3674/3863 (95.1%)\n",
      "Speed : 38.9 sentences/s (gpu mode, bsize=64)\n",
      "Nb words kept : 3344/3423 (97.7%)\n",
      "Speed : 94.6 sentences/s (gpu mode, bsize=64)\n",
      "Nb words kept : 3205/3331 (96.2%)\n",
      "Speed : 63.3 sentences/s (gpu mode, bsize=64)\n",
      "Nb words kept : 1458/2305 (63.3%)\n",
      "Speed : 81.0 sentences/s (gpu mode, bsize=64)\n",
      "Nb words kept : 2953/3274 (90.2%)\n",
      "Speed : 57.2 sentences/s (gpu mode, bsize=64)\n",
      "Nb words kept : 4021/4211 (95.5%)\n",
      "Speed : 48.0 sentences/s (gpu mode, bsize=64)\n",
      "Nb words kept : 471/481 (97.9%)\n",
      "Speed : 68.4 sentences/s (gpu mode, bsize=64)\n",
      "Nb words kept : 1846/1930 (95.6%)\n",
      "Speed : 37.4 sentences/s (gpu mode, bsize=64)\n",
      "Nb words kept : 2806/2961 (94.8%)\n",
      "Speed : 73.6 sentences/s (gpu mode, bsize=64)\n",
      "Nb words kept : 2487/2737 (90.9%)\n",
      "Speed : 68.8 sentences/s (gpu mode, bsize=64)\n",
      "Nb words kept : 1966/2075 (94.7%)\n",
      "Speed : 24.0 sentences/s (gpu mode, bsize=64)\n",
      "Nb words kept : 1963/2056 (95.5%)\n",
      "Speed : 67.3 sentences/s (gpu mode, bsize=64)\n",
      "Nb words kept : 2133/5736 (37.2%)\n",
      "Speed : 33.6 sentences/s (gpu mode, bsize=64)\n",
      "Nb words kept : 1733/2045 (84.7%)\n",
      "Speed : 31.0 sentences/s (gpu mode, bsize=64)\n",
      "Nb words kept : 2621/2741 (95.6%)\n",
      "Speed : 40.9 sentences/s (gpu mode, bsize=64)\n",
      "Nb words kept : 2456/2567 (95.7%)\n",
      "Speed : 81.7 sentences/s (gpu mode, bsize=64)\n",
      "Nb words kept : 1525/1594 (95.7%)\n",
      "Speed : 81.1 sentences/s (gpu mode, bsize=64)\n",
      "Nb words kept : 4218/4374 (96.4%)\n",
      "Speed : 44.3 sentences/s (gpu mode, bsize=64)\n",
      "Nb words kept : 2637/2750 (95.9%)\n",
      "Speed : 52.6 sentences/s (gpu mode, bsize=64)\n",
      "Nb words kept : 2941/3048 (96.5%)\n",
      "Speed : 50.7 sentences/s (gpu mode, bsize=64)\n",
      "Nb words kept : 2238/2324 (96.3%)\n",
      "Speed : 68.5 sentences/s (gpu mode, bsize=64)\n",
      "Nb words kept : 1606/1844 (87.1%)\n",
      "Speed : 89.0 sentences/s (gpu mode, bsize=64)\n",
      "Nb words kept : 2903/3014 (96.3%)\n",
      "Speed : 91.3 sentences/s (gpu mode, bsize=64)\n",
      "Nb words kept : 1538/1638 (93.9%)\n",
      "Speed : 87.4 sentences/s (gpu mode, bsize=64)\n",
      "Nb words kept : 3130/3253 (96.2%)\n",
      "Speed : 53.2 sentences/s (gpu mode, bsize=64)\n",
      "Nb words kept : 2159/2253 (95.8%)\n",
      "Speed : 61.6 sentences/s (gpu mode, bsize=64)\n",
      "Nb words kept : 2846/2938 (96.9%)\n",
      "Speed : 43.8 sentences/s (gpu mode, bsize=64)\n",
      "Nb words kept : 2770/2932 (94.5%)\n",
      "Speed : 61.4 sentences/s (gpu mode, bsize=64)\n",
      "Nb words kept : 945/991 (95.4%)\n",
      "Speed : 150.6 sentences/s (gpu mode, bsize=64)\n",
      "---------------------------------\n",
      "test_set_accuracy:  0.7297953349027086\n",
      "test_set_accuracy_closest_5:  0.7717001435609413\n"
     ]
    }
   ],
   "source": [
    "model_flag = \"inferSent\"\n",
    "def get_accuracy(model_flag):\n",
    "    test_set_accuracy = 0\n",
    "    test_set_accuracy_closest_5 = 0\n",
    "    count_iteration = 0\n",
    "    # get the test set description\n",
    "    for book_id, similar_books_id_list in similar_books_GT_test_dict.items():\n",
    "        description_book, description_similar_books_list = get_description_for_book_and_similar_books(book_id, similar_books_id_list)\n",
    "        # print(description_book)\n",
    "        # print(len(description_similar_books_list))\n",
    "        if len(description_book) < 20: # filter out those with less description to keep the model accurate\n",
    "            continue\n",
    "        \n",
    "        # inferSent\n",
    "        if model_flag == \"inferSent\":\n",
    "            temp_accuracy, temp_accuracy_closest_5 = generate_embeddings_and_compute_ranked_distance(description_book, description_similar_books_list, print_mode=False)\n",
    "      \n",
    "            if temp_accuracy > 0: # filter out input book description is null or meaningless\n",
    "                test_set_accuracy += temp_accuracy\n",
    "                test_set_accuracy_closest_5 += temp_accuracy_closest_5\n",
    "                count_iteration += 1\n",
    "\n",
    "    test_set_accuracy /= count_iteration\n",
    "    test_set_accuracy_closest_5 /= count_iteration\n",
    "    \n",
    "    return test_set_accuracy, test_set_accuracy_closest_5\n",
    "\n",
    "test_set_accuracy, test_set_accuracy_closest_5 = get_accuracy(model_flag)\n",
    "print('---------------------------------')\n",
    "print('test_set_accuracy: ', test_set_accuracy)\n",
    "print('test_set_accuracy_closest_5: ', test_set_accuracy_closest_5)"
   ]
  },
  {
   "cell_type": "code",
   "execution_count": null,
   "metadata": {},
   "outputs": [],
   "source": []
  },
  {
   "cell_type": "markdown",
   "metadata": {},
   "source": [
    "---------------------------------------\n",
    "# END\n",
    "# Below is draft\n",
    "---------------------------------------"
   ]
  },
  {
   "cell_type": "markdown",
   "metadata": {},
   "source": [
    "## Encode sentences"
   ]
  },
  {
   "cell_type": "code",
   "execution_count": 11,
   "metadata": {},
   "outputs": [],
   "source": [
    "# gpu mode : >> 1000 sentences/s\n",
    "# cpu mode : ~100 sentences/s"
   ]
  },
  {
   "cell_type": "code",
   "execution_count": 15,
   "metadata": {},
   "outputs": [
    {
     "name": "stdout",
     "output_type": "stream",
     "text": [
      "Nb words kept : 4604879/5913990 (77.9%)\n",
      "Speed : 741.3 sentences/s (gpu mode, bsize=128)\n",
      "number of sentences encoded : 50000\n",
      "4096\n"
     ]
    }
   ],
   "source": [
    "total_length = len(df_read)\n",
    "start_index = 0\n",
    "end_flag = False\n",
    "\n",
    "# while(end_flag!=True): \n",
    "#     if start_index + separate_index < total_length:\n",
    "#         end_index = start_index + separate_index\n",
    "#     else: \n",
    "#         end_index = total_length\n",
    "#         end_flag = True\n",
    "\n",
    "#     embeddings = model.encode(df_read.description[start_index:separate_index], bsize=128, tokenize=False, verbose=True)\n",
    "#     print('number of sentences encoded : {0}'.format(len(embeddings)))\n",
    "#     print(len(embeddings[0]))\n",
    "\n",
    "embeddings = model.encode(df_read.description[:separate_index], bsize=128, tokenize=False, verbose=True)\n",
    "print('number of sentences encoded : {0}'.format(len(embeddings)))\n",
    "print(len(embeddings[0]))\n",
    "# print(embeddings[0])"
   ]
  },
  {
   "cell_type": "code",
   "execution_count": 45,
   "metadata": {},
   "outputs": [
    {
     "data": {
      "text/html": [
       "<div>\n",
       "<style scoped>\n",
       "    .dataframe tbody tr th:only-of-type {\n",
       "        vertical-align: middle;\n",
       "    }\n",
       "\n",
       "    .dataframe tbody tr th {\n",
       "        vertical-align: top;\n",
       "    }\n",
       "\n",
       "    .dataframe thead th {\n",
       "        text-align: right;\n",
       "    }\n",
       "</style>\n",
       "<table border=\"1\" class=\"dataframe\">\n",
       "  <thead>\n",
       "    <tr style=\"text-align: right;\">\n",
       "      <th></th>\n",
       "      <th>book_id</th>\n",
       "      <th>description</th>\n",
       "    </tr>\n",
       "  </thead>\n",
       "  <tbody>\n",
       "    <tr>\n",
       "      <th>0</th>\n",
       "      <td>5333265</td>\n",
       "      <td></td>\n",
       "    </tr>\n",
       "    <tr>\n",
       "      <th>1</th>\n",
       "      <td>1333909</td>\n",
       "      <td>Anita Diamant's international bestseller \"The ...</td>\n",
       "    </tr>\n",
       "    <tr>\n",
       "      <th>2</th>\n",
       "      <td>7327624</td>\n",
       "      <td>Omnibus book club edition containing the Ladie...</td>\n",
       "    </tr>\n",
       "    <tr>\n",
       "      <th>3</th>\n",
       "      <td>6066819</td>\n",
       "      <td>Addie Downs and Valerie Adler were eight when ...</td>\n",
       "    </tr>\n",
       "    <tr>\n",
       "      <th>4</th>\n",
       "      <td>287140</td>\n",
       "      <td></td>\n",
       "    </tr>\n",
       "    <tr>\n",
       "      <th>...</th>\n",
       "      <td>...</td>\n",
       "      <td>...</td>\n",
       "    </tr>\n",
       "    <tr>\n",
       "      <th>2360650</th>\n",
       "      <td>3084038</td>\n",
       "      <td>The award-winning story of Britain, from the a...</td>\n",
       "    </tr>\n",
       "    <tr>\n",
       "      <th>2360651</th>\n",
       "      <td>26168430</td>\n",
       "      <td>Sir Arthur Conan Doyle is brought back to life...</td>\n",
       "    </tr>\n",
       "    <tr>\n",
       "      <th>2360652</th>\n",
       "      <td>2342551</td>\n",
       "      <td>Gathers poems by William Blake, Emily Bronte, ...</td>\n",
       "    </tr>\n",
       "    <tr>\n",
       "      <th>2360653</th>\n",
       "      <td>22017381</td>\n",
       "      <td>Volume One contains: \"Claimed,\" \"Tainted,\" and...</td>\n",
       "    </tr>\n",
       "    <tr>\n",
       "      <th>2360654</th>\n",
       "      <td>11419866</td>\n",
       "      <td></td>\n",
       "    </tr>\n",
       "  </tbody>\n",
       "</table>\n",
       "<p>2360655 rows × 2 columns</p>\n",
       "</div>"
      ],
      "text/plain": [
       "          book_id                                        description\n",
       "0         5333265                                                   \n",
       "1         1333909  Anita Diamant's international bestseller \"The ...\n",
       "2         7327624  Omnibus book club edition containing the Ladie...\n",
       "3         6066819  Addie Downs and Valerie Adler were eight when ...\n",
       "4          287140                                                   \n",
       "...           ...                                                ...\n",
       "2360650   3084038  The award-winning story of Britain, from the a...\n",
       "2360651  26168430  Sir Arthur Conan Doyle is brought back to life...\n",
       "2360652   2342551  Gathers poems by William Blake, Emily Bronte, ...\n",
       "2360653  22017381  Volume One contains: \"Claimed,\" \"Tainted,\" and...\n",
       "2360654  11419866                                                   \n",
       "\n",
       "[2360655 rows x 2 columns]"
      ]
     },
     "execution_count": 45,
     "metadata": {},
     "output_type": "execute_result"
    }
   ],
   "source": [
    "df_read"
   ]
  },
  {
   "cell_type": "code",
   "execution_count": 55,
   "metadata": {},
   "outputs": [
    {
     "name": "stdout",
     "output_type": "stream",
     "text": [
      "<class 'numpy.ndarray'>\n"
     ]
    },
    {
     "data": {
      "text/plain": [
       "5333265"
      ]
     },
     "execution_count": 55,
     "metadata": {},
     "output_type": "execute_result"
    }
   ],
   "source": [
    "print(type(embeddings[0]))\n",
    "df_read.iloc[0]['book_id']"
   ]
  },
  {
   "cell_type": "code",
   "execution_count": 50,
   "metadata": {},
   "outputs": [
    {
     "data": {
      "text/html": [
       "<div>\n",
       "<style scoped>\n",
       "    .dataframe tbody tr th:only-of-type {\n",
       "        vertical-align: middle;\n",
       "    }\n",
       "\n",
       "    .dataframe tbody tr th {\n",
       "        vertical-align: top;\n",
       "    }\n",
       "\n",
       "    .dataframe thead th {\n",
       "        text-align: right;\n",
       "    }\n",
       "</style>\n",
       "<table border=\"1\" class=\"dataframe\">\n",
       "  <thead>\n",
       "    <tr style=\"text-align: right;\">\n",
       "      <th></th>\n",
       "      <th>book_id</th>\n",
       "      <th>description</th>\n",
       "      <th>embedding</th>\n",
       "    </tr>\n",
       "  </thead>\n",
       "  <tbody>\n",
       "    <tr>\n",
       "      <th>0</th>\n",
       "      <td>5333265</td>\n",
       "      <td></td>\n",
       "      <td></td>\n",
       "    </tr>\n",
       "    <tr>\n",
       "      <th>1</th>\n",
       "      <td>1333909</td>\n",
       "      <td>Anita Diamant's international bestseller \"The ...</td>\n",
       "      <td></td>\n",
       "    </tr>\n",
       "    <tr>\n",
       "      <th>2</th>\n",
       "      <td>7327624</td>\n",
       "      <td>Omnibus book club edition containing the Ladie...</td>\n",
       "      <td></td>\n",
       "    </tr>\n",
       "    <tr>\n",
       "      <th>3</th>\n",
       "      <td>6066819</td>\n",
       "      <td>Addie Downs and Valerie Adler were eight when ...</td>\n",
       "      <td></td>\n",
       "    </tr>\n",
       "    <tr>\n",
       "      <th>4</th>\n",
       "      <td>287140</td>\n",
       "      <td></td>\n",
       "      <td></td>\n",
       "    </tr>\n",
       "    <tr>\n",
       "      <th>...</th>\n",
       "      <td>...</td>\n",
       "      <td>...</td>\n",
       "      <td>...</td>\n",
       "    </tr>\n",
       "    <tr>\n",
       "      <th>2360650</th>\n",
       "      <td>3084038</td>\n",
       "      <td>The award-winning story of Britain, from the a...</td>\n",
       "      <td></td>\n",
       "    </tr>\n",
       "    <tr>\n",
       "      <th>2360651</th>\n",
       "      <td>26168430</td>\n",
       "      <td>Sir Arthur Conan Doyle is brought back to life...</td>\n",
       "      <td></td>\n",
       "    </tr>\n",
       "    <tr>\n",
       "      <th>2360652</th>\n",
       "      <td>2342551</td>\n",
       "      <td>Gathers poems by William Blake, Emily Bronte, ...</td>\n",
       "      <td></td>\n",
       "    </tr>\n",
       "    <tr>\n",
       "      <th>2360653</th>\n",
       "      <td>22017381</td>\n",
       "      <td>Volume One contains: \"Claimed,\" \"Tainted,\" and...</td>\n",
       "      <td></td>\n",
       "    </tr>\n",
       "    <tr>\n",
       "      <th>2360654</th>\n",
       "      <td>11419866</td>\n",
       "      <td></td>\n",
       "      <td></td>\n",
       "    </tr>\n",
       "  </tbody>\n",
       "</table>\n",
       "<p>2360655 rows × 3 columns</p>\n",
       "</div>"
      ],
      "text/plain": [
       "          book_id                                        description embedding\n",
       "0         5333265                                                             \n",
       "1         1333909  Anita Diamant's international bestseller \"The ...          \n",
       "2         7327624  Omnibus book club edition containing the Ladie...          \n",
       "3         6066819  Addie Downs and Valerie Adler were eight when ...          \n",
       "4          287140                                                             \n",
       "...           ...                                                ...       ...\n",
       "2360650   3084038  The award-winning story of Britain, from the a...          \n",
       "2360651  26168430  Sir Arthur Conan Doyle is brought back to life...          \n",
       "2360652   2342551  Gathers poems by William Blake, Emily Bronte, ...          \n",
       "2360653  22017381  Volume One contains: \"Claimed,\" \"Tainted,\" and...          \n",
       "2360654  11419866                                                             \n",
       "\n",
       "[2360655 rows x 3 columns]"
      ]
     },
     "execution_count": 50,
     "metadata": {},
     "output_type": "execute_result"
    }
   ],
   "source": [
    "df_description_embedding = df_read\n",
    "df_description_embedding['embedding']=''\n",
    "df_description_embedding"
   ]
  },
  {
   "cell_type": "code",
   "execution_count": 53,
   "metadata": {},
   "outputs": [],
   "source": [
    "for i in range(len(embeddings)):\n",
    "    df_description_embedding.iloc[i, 2]=str(embeddings[i+1])\n",
    "#     df_description_embedding.insert(i, 'E', embeddings[i])\n",
    "    break"
   ]
  },
  {
   "cell_type": "code",
   "execution_count": 54,
   "metadata": {},
   "outputs": [
    {
     "data": {
      "text/html": [
       "<div>\n",
       "<style scoped>\n",
       "    .dataframe tbody tr th:only-of-type {\n",
       "        vertical-align: middle;\n",
       "    }\n",
       "\n",
       "    .dataframe tbody tr th {\n",
       "        vertical-align: top;\n",
       "    }\n",
       "\n",
       "    .dataframe thead th {\n",
       "        text-align: right;\n",
       "    }\n",
       "</style>\n",
       "<table border=\"1\" class=\"dataframe\">\n",
       "  <thead>\n",
       "    <tr style=\"text-align: right;\">\n",
       "      <th></th>\n",
       "      <th>book_id</th>\n",
       "      <th>description</th>\n",
       "      <th>embedding</th>\n",
       "    </tr>\n",
       "  </thead>\n",
       "  <tbody>\n",
       "    <tr>\n",
       "      <th>0</th>\n",
       "      <td>5333265</td>\n",
       "      <td></td>\n",
       "      <td>[ 0.00746889 -0.03530392  0.19530894 ...  0.04...</td>\n",
       "    </tr>\n",
       "    <tr>\n",
       "      <th>1</th>\n",
       "      <td>1333909</td>\n",
       "      <td>Anita Diamant's international bestseller \"The ...</td>\n",
       "      <td></td>\n",
       "    </tr>\n",
       "    <tr>\n",
       "      <th>2</th>\n",
       "      <td>7327624</td>\n",
       "      <td>Omnibus book club edition containing the Ladie...</td>\n",
       "      <td></td>\n",
       "    </tr>\n",
       "    <tr>\n",
       "      <th>3</th>\n",
       "      <td>6066819</td>\n",
       "      <td>Addie Downs and Valerie Adler were eight when ...</td>\n",
       "      <td></td>\n",
       "    </tr>\n",
       "    <tr>\n",
       "      <th>4</th>\n",
       "      <td>287140</td>\n",
       "      <td></td>\n",
       "      <td></td>\n",
       "    </tr>\n",
       "    <tr>\n",
       "      <th>...</th>\n",
       "      <td>...</td>\n",
       "      <td>...</td>\n",
       "      <td>...</td>\n",
       "    </tr>\n",
       "    <tr>\n",
       "      <th>2360650</th>\n",
       "      <td>3084038</td>\n",
       "      <td>The award-winning story of Britain, from the a...</td>\n",
       "      <td></td>\n",
       "    </tr>\n",
       "    <tr>\n",
       "      <th>2360651</th>\n",
       "      <td>26168430</td>\n",
       "      <td>Sir Arthur Conan Doyle is brought back to life...</td>\n",
       "      <td></td>\n",
       "    </tr>\n",
       "    <tr>\n",
       "      <th>2360652</th>\n",
       "      <td>2342551</td>\n",
       "      <td>Gathers poems by William Blake, Emily Bronte, ...</td>\n",
       "      <td></td>\n",
       "    </tr>\n",
       "    <tr>\n",
       "      <th>2360653</th>\n",
       "      <td>22017381</td>\n",
       "      <td>Volume One contains: \"Claimed,\" \"Tainted,\" and...</td>\n",
       "      <td></td>\n",
       "    </tr>\n",
       "    <tr>\n",
       "      <th>2360654</th>\n",
       "      <td>11419866</td>\n",
       "      <td></td>\n",
       "      <td></td>\n",
       "    </tr>\n",
       "  </tbody>\n",
       "</table>\n",
       "<p>2360655 rows × 3 columns</p>\n",
       "</div>"
      ],
      "text/plain": [
       "          book_id                                        description  \\\n",
       "0         5333265                                                      \n",
       "1         1333909  Anita Diamant's international bestseller \"The ...   \n",
       "2         7327624  Omnibus book club edition containing the Ladie...   \n",
       "3         6066819  Addie Downs and Valerie Adler were eight when ...   \n",
       "4          287140                                                      \n",
       "...           ...                                                ...   \n",
       "2360650   3084038  The award-winning story of Britain, from the a...   \n",
       "2360651  26168430  Sir Arthur Conan Doyle is brought back to life...   \n",
       "2360652   2342551  Gathers poems by William Blake, Emily Bronte, ...   \n",
       "2360653  22017381  Volume One contains: \"Claimed,\" \"Tainted,\" and...   \n",
       "2360654  11419866                                                      \n",
       "\n",
       "                                                 embedding  \n",
       "0        [ 0.00746889 -0.03530392  0.19530894 ...  0.04...  \n",
       "1                                                           \n",
       "2                                                           \n",
       "3                                                           \n",
       "4                                                           \n",
       "...                                                    ...  \n",
       "2360650                                                     \n",
       "2360651                                                     \n",
       "2360652                                                     \n",
       "2360653                                                     \n",
       "2360654                                                     \n",
       "\n",
       "[2360655 rows x 3 columns]"
      ]
     },
     "execution_count": 54,
     "metadata": {},
     "output_type": "execute_result"
    }
   ],
   "source": [
    "df_description_embedding"
   ]
  },
  {
   "cell_type": "markdown",
   "metadata": {},
   "source": [
    "## Visualization"
   ]
  },
  {
   "cell_type": "code",
   "execution_count": 16,
   "metadata": {},
   "outputs": [
    {
     "data": {
      "text/plain": [
       "2.4585443"
      ]
     },
     "execution_count": 16,
     "metadata": {},
     "output_type": "execute_result"
    }
   ],
   "source": [
    "np.linalg.norm(model.encode(['the cat eats.']))"
   ]
  },
  {
   "cell_type": "code",
   "execution_count": 17,
   "metadata": {},
   "outputs": [],
   "source": [
    "def cosine(u, v):\n",
    "    return np.dot(u, v) / (np.linalg.norm(u) * np.linalg.norm(v))"
   ]
  },
  {
   "cell_type": "code",
   "execution_count": 18,
   "metadata": {},
   "outputs": [
    {
     "data": {
      "text/plain": [
       "0.7549328"
      ]
     },
     "execution_count": 18,
     "metadata": {},
     "output_type": "execute_result"
    }
   ],
   "source": [
    "cosine(model.encode(['the cat eats.'])[0], model.encode(['the cat drinks.'])[0])"
   ]
  },
  {
   "cell_type": "code",
   "execution_count": 19,
   "metadata": {},
   "outputs": [
    {
     "data": {
      "image/png": "[encoded data removed]",
      "text/plain": [
       "<Figure size 432x288 with 1 Axes>"
      ]
     },
     "metadata": {
      "needs_background": "light"
     },
     "output_type": "display_data"
    }
   ],
   "source": [
    "idx = randint(0, len(sentences))\n",
    "_, _ = model.visualize(sentences[idx])"
   ]
  },
  {
   "cell_type": "code",
   "execution_count": 20,
   "metadata": {},
   "outputs": [
    {
     "data": {
      "image/png": "[encoded data removed]",
      "text/plain": [
       "<Figure size 432x288 with 1 Axes>"
      ]
     },
     "metadata": {
      "needs_background": "light"
     },
     "output_type": "display_data"
    }
   ],
   "source": [
    "my_sent = 'The cat is drinking milk.'\n",
    "_, _ = model.visualize(my_sent)"
   ]
  },
  {
   "cell_type": "code",
   "execution_count": 21,
   "metadata": {},
   "outputs": [
    {
     "name": "stdout",
     "output_type": "stream",
     "text": [
      "Vocab size : 500000\n"
     ]
    },
    {
     "data": {
      "image/png": "[encoded data removed]",
      "text/plain": [
       "<Figure size 432x288 with 1 Axes>"
      ]
     },
     "metadata": {
      "needs_background": "light"
     },
     "output_type": "display_data"
    }
   ],
   "source": [
    "model.build_vocab_k_words(500000) # getting 500K words vocab\n",
    "my_sent = 'barack-obama is the former president of the United-States.'\n",
    "_, _ = model.visualize(my_sent)"
   ]
  },
  {
   "cell_type": "code",
   "execution_count": null,
   "metadata": {},
   "outputs": [],
   "source": []
  }
 ],
 "metadata": {
  "anaconda-cloud": {},
  "kernelspec": {
   "display_name": "Python 3",
   "language": "python",
   "name": "python3"
  },
  "language_info": {
   "codemirror_mode": {
    "name": "ipython",
    "version": 3
   },
   "file_extension": ".py",
   "mimetype": "text/x-python",
   "name": "python",
   "nbconvert_exporter": "python",
   "pygments_lexer": "ipython3",
   "version": "3.6.9"
  }
 },
 "nbformat": 4,
 "nbformat_minor": 1
}
