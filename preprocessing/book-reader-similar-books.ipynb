{
 "cells": [
  {
   "cell_type": "code",
   "execution_count": 14,
   "metadata": {},
   "outputs": [],
   "source": [
    "import json\n",
    "import csv\n",
    "import pandas as pd"
   ]
  },
  {
   "cell_type": "code",
   "execution_count": 15,
   "metadata": {},
   "outputs": [],
   "source": [
    "# goodreads_books_path = 'data/goodreads_books.json'\n",
    "goodreads_interactions_path = 'data/goodreads_interactions.csv'\n",
    "save_file_name = \"results/book_to_similar_books.csv\"\n",
    "test_mode = True\n"
   ]
  },
  {
   "cell_type": "code",
   "execution_count": 21,
   "metadata": {},
   "outputs": [],
   "source": [
    "user_to_book_dict = {}\n",
    "book_to_user_dict = {}\n",
    "with open(goodreads_interactions_path, 'r') as csvfile:\n",
    "    csv_reader = csv.reader(csvfile)\n",
    "    count = 0\n",
    "    for line in csv_reader:\n",
    "        # to shrink the user list, we only consider those give 5/4 star rating\n",
    "        rating = line[3]\n",
    "#         print(rating)\n",
    "#         if rating != \"4\" and rating != \"5\":\n",
    "#             continue\n",
    "            \n",
    "        user_id = line[0]\n",
    "        book_id = line[1]\n",
    "        \n",
    "        # build the user_to_book_dict\n",
    "        if user_id in user_to_book_dict:\n",
    "            user_to_book_dict[user_id].append(book_id)\n",
    "        else:\n",
    "            user_to_book_dict[user_id]=[book_id]\n",
    "        \n",
    "        # build the book_to_user_dict\n",
    "        if book_id in book_to_user_dict:\n",
    "            book_to_user_dict[book_id].append(user_id)\n",
    "        else:\n",
    "            book_to_user_dict[book_id]=[user_id]\n",
    "        \n",
    "        # test\n",
    "        if test_mode:\n",
    "            count += 1\n",
    "            if count == 10:\n",
    "                break\n"
   ]
  },
  {
   "cell_type": "code",
   "execution_count": 7,
   "metadata": {
    "scrolled": true
   },
   "outputs": [],
   "source": [
    "# print book_to_user_dict\n",
    "for item in list(book_to_user_dict.items())[:3]:\n",
    "    print('book_to_user_dict item: ', item)\n",
    "    print()\n"
   ]
  },
  {
   "cell_type": "code",
   "execution_count": 8,
   "metadata": {
    "scrolled": true
   },
   "outputs": [],
   "source": [
    "# print user_to_book_dict\n",
    "for item in list(user_to_book_dict.items())[:3]:\n",
    "    print('user_to_book_dict item: ', item)\n",
    "    print()"
   ]
  },
  {
   "cell_type": "code",
   "execution_count": null,
   "metadata": {},
   "outputs": [],
   "source": [
    "# build the book_to_similar_books_dict\n",
    "book_to_similar_books_dict = {}\n",
    "for book_id, user_id_list in book_to_user_dict.items():\n",
    "    book_to_similar_books_dict[book_id] = []\n",
    "    for user_id in user_id_list:\n",
    "        book_to_similar_books_dict[book_id].extend(user_to_book_dict[user_id])\n"
   ]
  },
  {
   "cell_type": "markdown",
   "metadata": {},
   "source": [
    "### Convert to dataframe"
   ]
  },
  {
   "cell_type": "code",
   "execution_count": null,
   "metadata": {},
   "outputs": [],
   "source": [
    "df_book_to_similar_books = pd.DataFrame([(i,','.join(j)) for i, j in book_to_similar_books_dict.items()], columns=['book_id', 'similar_books_id'])\n",
    "df_book_to_similar_books = df_book_to_similar_books.drop(0) # remove unnecessary column name\n",
    "df_book_to_similar_books.head()"
   ]
  },
  {
   "cell_type": "code",
   "execution_count": null,
   "metadata": {},
   "outputs": [],
   "source": [
    "# write to csv\n",
    "df_book_to_similar_books.to_csv(save_file_name, index=False)\n"
   ]
  },
  {
   "cell_type": "code",
   "execution_count": null,
   "metadata": {},
   "outputs": [],
   "source": [
    "# read from csv\n",
    "df_read = pd.read_csv(save_file_name)\n",
    "df_read.head()"
   ]
  },
  {
   "cell_type": "code",
   "execution_count": null,
   "metadata": {},
   "outputs": [],
   "source": [
    "# iterate the dataframe\n",
    "for index, row in df_read.iterrows():\n",
    "    print('book_id: ', row[\"book_id\"])\n",
    "    print(type(row[\"book_id\"]))\n",
    "    print('similar_books_id: ', row[\"similar_books_id\"])\n",
    "    print(type(row[\"similar_books_id\"]))\n",
    "    break"
   ]
  },
  {
   "cell_type": "code",
   "execution_count": null,
   "metadata": {},
   "outputs": [],
   "source": []
  }
 ],
 "metadata": {
  "anaconda-cloud": {},
  "kernelspec": {
   "display_name": "Python 3",
   "language": "python",
   "name": "python3"
  },
  "language_info": {
   "codemirror_mode": {
    "name": "ipython",
    "version": 3
   },
   "file_extension": ".py",
   "mimetype": "text/x-python",
   "name": "python",
   "nbconvert_exporter": "python",
   "pygments_lexer": "ipython3",
   "version": "3.7.3"
  }
 },
 "nbformat": 4,
 "nbformat_minor": 1
}
