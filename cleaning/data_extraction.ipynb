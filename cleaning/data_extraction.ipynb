{
 "cells": [
  {
   "cell_type": "code",
   "execution_count": 1,
   "metadata": {},
   "outputs": [],
   "source": [
    "import pandas as pd\n",
    "import os\n",
    "import json"
   ]
  },
  {
   "cell_type": "code",
   "execution_count": 2,
   "metadata": {},
   "outputs": [],
   "source": [
    "full_path = 'data/goodreads_books.json'"
   ]
  },
  {
   "cell_type": "code",
   "execution_count": null,
   "metadata": {},
   "outputs": [],
   "source": [
    "df = pd.DataFrame(columns=['book_id', 'description', 'title', 'similar_books'])"
   ]
  },
  {
   "cell_type": "code",
   "execution_count": null,
   "metadata": {},
   "outputs": [],
   "source": [
    "with open(full_path) as json_file:\n",
    "    for line in json_file:\n",
    "        try:\n",
    "            data = json.loads(line)\n",
    "            book_id = data[\"book_id\"]\n",
    "            title = data[\"title\"]\n",
    "            description = data[\"description\"]\n",
    "            similar_books = data[\"similar_books\"]\n",
    "\n",
    "        except:\n",
    "            lines_with_error_count += 1"
   ]
  },
  {
   "cell_type": "code",
   "execution_count": null,
   "metadata": {},
   "outputs": [],
   "source": [
    "df[['book_id','description']].to_csv('description.csv')\n",
    "df[['book_id','title']].to_csv('title.csv')\n",
    "df[['book_id','similar_books']].to_csv('similar_books.csv')"
   ]
  },
  {
   "cell_type": "code",
   "execution_count": null,
   "metadata": {},
   "outputs": [],
   "source": [
    "## Generate Clean csv"
   ]
  },
  {
   "cell_type": "code",
   "execution_count": 4,
   "metadata": {},
   "outputs": [],
   "source": [
    "\n",
    "import csv\n",
    "\n",
    "with open('description.csv', 'w', newline='') as csvfile:\n",
    "    writer = csv.writer(csvfile)\n",
    "    writer.writerow(['book_id', 'description'])\n",
    "    lines_with_error_count = 0\n",
    "    \n",
    "    with open(full_path) as json_file:\n",
    "        for line in json_file:\n",
    "            try:\n",
    "                data = json.loads(line)\n",
    "                book_id = data[\"book_id\"]\n",
    "                description = data[\"description\"]\n",
    "            except:\n",
    "                lines_with_error_count += 1\n",
    "            \n",
    "            writer.writerow([book_id, description])\n"
   ]
  },
  {
   "cell_type": "code",
   "execution_count": 5,
   "metadata": {},
   "outputs": [],
   "source": [
    "with open('title.csv', 'w', newline='') as csvfile:\n",
    "    writer = csv.writer(csvfile)\n",
    "    writer.writerow(['book_id', 'title'])\n",
    "    lines_with_error_count = 0\n",
    "    \n",
    "    with open(full_path) as json_file:\n",
    "        for line in json_file:\n",
    "            try:\n",
    "                data = json.loads(line)\n",
    "                book_id = data[\"book_id\"]\n",
    "                title = data[\"title\"]\n",
    "            except:\n",
    "                lines_with_error_count += 1\n",
    "            \n",
    "            writer.writerow([book_id, title])"
   ]
  },
  {
   "cell_type": "code",
   "execution_count": 6,
   "metadata": {},
   "outputs": [],
   "source": [
    "with open('similar_books.csv', 'w', newline='') as csvfile:\n",
    "    writer = csv.writer(csvfile)\n",
    "    writer.writerow(['book_id', 'similar_books'])\n",
    "    lines_with_error_count = 0\n",
    "    \n",
    "    with open(full_path) as json_file:\n",
    "        for line in json_file:\n",
    "            try:\n",
    "                data = json.loads(line)\n",
    "                book_id = data[\"book_id\"]\n",
    "                similar_books = data[\"similar_books\"]\n",
    "            except:\n",
    "                lines_with_error_count += 1\n",
    "            \n",
    "            writer.writerow([book_id, similar_books])"
   ]
  },
  {
   "cell_type": "code",
   "execution_count": null,
   "metadata": {},
   "outputs": [],
   "source": [
    "with open(full_path) as json_file:\n",
    "    for line in json_file:\n",
    "        try:\n",
    "            data = json.loads(line)\n",
    "            book_id = data[\"book_id\"]\n",
    "            title = data[\"title\"]\n",
    "            description = data[\"description\"]\n",
    "            similar_books = data[\"similar_books\"]\n",
    "\n",
    "            df = df.append({'book_id': book_id, 'description': description, 'title': title,'similar_books': similar_books}, ignore_index=True)\n",
    "        except:\n",
    "            lines_with_error_count += 1"
   ]
  },
  {
   "cell_type": "code",
   "execution_count": null,
   "metadata": {},
   "outputs": [],
   "source": [
    "\n",
    "lines_with_error_count = 0\n",
    "\n",
    "with open(full_path) as json_file:\n",
    "    for line in json_file:\n",
    "        try:\n",
    "            data = json.loads(line)\n",
    "            book_id = data[\"book_id\"]\n",
    "            title = data[\"title\"]\n",
    "            description = data[\"description\"]\n",
    "            popular_shelves = data[\"popular_shelves\"]\n",
    "            shelf_text = \"\"\n",
    "            for shelf in popular_shelves:\n",
    "                if int(shelf[\"count\"]) > 50:\n",
    "                    shelf_name = shelf[\"name\"]\n",
    "                    if shelf_name not in ['to-read', 'currently-reading', 'read', 'owned', 'books-i-own',\n",
    "                                          'kindle', 'audio', 'audiobook', 'to-buy',\n",
    "                                          'ebook', 'i-own', 'owned-books', 'audiobooks', 'ebooks', 'default',\n",
    "                                          'library', 'my-library', 'my-ebooks', 'e-book', 'e-books', 'have', 'tbr',\n",
    "                                          ]:\n",
    "                        shelf_text += \" \" + shelf[\"name\"]\n",
    "\n",
    "            text = title + ' ' + description + ' ' + shelf_text\n",
    "            if len(text) > 100:\n",
    "                text_df = text_df.append({'book_id': book_id, 'text': text}, ignore_index=True)\n",
    "        except:\n",
    "            lines_with_error_count += 1"
   ]
  }
 ],
 "metadata": {
  "kernelspec": {
   "display_name": "Python 3",
   "language": "python",
   "name": "python3"
  },
  "language_info": {
   "codemirror_mode": {
    "name": "ipython",
    "version": 3
   },
   "file_extension": ".py",
   "mimetype": "text/x-python",
   "name": "python",
   "nbconvert_exporter": "python",
   "pygments_lexer": "ipython3",
   "version": "3.6.9"
  }
 },
 "nbformat": 4,
 "nbformat_minor": 2
}
